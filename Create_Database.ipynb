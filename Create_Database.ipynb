{
 "cells": [
  {
   "cell_type": "code",
   "execution_count": 3,
   "id": "2cae42c9",
   "metadata": {},
   "outputs": [],
   "source": [
    "import psycopg2 as ps\n",
    "from psycopg2 import OperationalError"
   ]
  },
  {
   "cell_type": "code",
   "execution_count": 8,
   "id": "4790fb5c",
   "metadata": {},
   "outputs": [],
   "source": [
    "with open('C:\\\\Users\\\\User1\\\\pgsql_password.txt', 'r', encoding='utf-8-sig') as fp:\n",
    "    pgsql_password = fp.read().rstrip()"
   ]
  },
  {
   "cell_type": "code",
   "execution_count": 24,
   "id": "ebc0bd69",
   "metadata": {},
   "outputs": [
    {
     "name": "stdout",
     "output_type": "stream",
     "text": [
      "База данных успешно создана\n"
     ]
    }
   ],
   "source": [
    "# Создание базы данных.\n",
    "conn = ps.connect(\n",
    "                    database='postgres',\n",
    "                    user='postgres',\n",
    "                    password=pgsql_password,\n",
    "                    host='localhost',\n",
    "                    port='5432',\n",
    ")\n",
    "cursor = conn.cursor()\n",
    " \n",
    "conn.autocommit = True\n",
    "# команда для создания базы данных final_work_database\n",
    "sql = 'CREATE DATABASE final_work_database'\n",
    " \n",
    "# выполняем код sql\n",
    "cursor.execute(sql)\n",
    "print(\"База данных успешно создана\")\n",
    " \n",
    "# cursor.close()\n",
    "# conn.close()"
   ]
  },
  {
   "cell_type": "code",
   "execution_count": 9,
   "id": "734d4e70",
   "metadata": {},
   "outputs": [],
   "source": [
    "# Определим функцию create_connection() для подключения к базе данных PostgreSQL:\n",
    "\n",
    "def create_connection(db_name, db_user, db_password, db_host, db_port):\n",
    "    connection = None\n",
    "    try:\n",
    "        connection = ps.connect(\n",
    "            database=db_name,\n",
    "            user=db_user,\n",
    "            password=db_password,\n",
    "            host=db_host,\n",
    "            port=db_port,\n",
    "        )\n",
    "        print('Подключение к базе данных выполнено успешно')\n",
    "    except OperationalError as e:\n",
    "        print(f\"Ошибка '{e}' \")\n",
    "    return connection"
   ]
  },
  {
   "cell_type": "code",
   "execution_count": 35,
   "id": "eb74830f",
   "metadata": {},
   "outputs": [
    {
     "name": "stdout",
     "output_type": "stream",
     "text": [
      "Подключение к базе данных выполнено успешно\n"
     ]
    }
   ],
   "source": [
    "# Используем  функцию для подключения:\n",
    "\n",
    "connection = create_connection(\n",
    "    'final_work_database', 'postgres', pgsql_password, 'localhost', '5432'\n",
    ")\n",
    "connection.commit()"
   ]
  },
  {
   "cell_type": "code",
   "execution_count": 13,
   "id": "d19fd083",
   "metadata": {},
   "outputs": [],
   "source": [
    "# Определим функцию для организации таблиц, вставки, изменения и удаления записей в базе данных:\n",
    "\n",
    "def execute_query(connection, query):\n",
    "    #connection.autocommit = True\n",
    "    cursor = connection.cursor()\n",
    "    try:\n",
    "        cursor.execute(query)\n",
    "        print('Запрос выполнен успешно')\n",
    "    except OperationalError as e:\n",
    "        print(f\"Ошибка '{e}' \")"
   ]
  },
  {
   "cell_type": "code",
   "execution_count": 36,
   "id": "1e906d9b",
   "metadata": {},
   "outputs": [
    {
     "name": "stdout",
     "output_type": "stream",
     "text": [
      "Запрос выполнен успешно\n"
     ]
    }
   ],
   "source": [
    "# Создадим внутри базы данных таблицу sessions:\n",
    "\n",
    "create_user_table = \"\"\"\n",
    "CREATE TABLE IF NOT EXISTS sessions\n",
    "(\n",
    "    id_sesson                      SERIAL PRIMARY KEY,\n",
    "    session_id                     VARCHAR(250),\n",
    "    visit_number                   INTEGER,\n",
    "    visit_date                     DATE,\n",
    "    visit_time                     DATE,\n",
    "    utm_campaing                   VARCHAR(250),\n",
    "    utm_adcontent                  VARCHAR(250),\n",
    "    device_category                VARCHAR(250),\n",
    "    device_brand                   VARCHAR(150),\n",
    "    device_browser                 VARCHAR(150),\n",
    "    target_action                  REAL,\n",
    "    adv_on_social_media            INTEGER,\n",
    "    is_organic                     INTEGER,\n",
    "    avg_number_of_customer_visits  REAL,\n",
    "    is_capital_mo                  INTEGER,\n",
    "    is_russia                      INTEGER\n",
    ");\"\"\"\n",
    "execute_query(connection, create_user_table)\n",
    "connection.commit()"
   ]
  },
  {
   "cell_type": "code",
   "execution_count": 32,
   "id": "029c00a7",
   "metadata": {},
   "outputs": [
    {
     "data": {
      "text/html": [
       "<div>\n",
       "<style scoped>\n",
       "    .dataframe tbody tr th:only-of-type {\n",
       "        vertical-align: middle;\n",
       "    }\n",
       "\n",
       "    .dataframe tbody tr th {\n",
       "        vertical-align: top;\n",
       "    }\n",
       "\n",
       "    .dataframe thead th {\n",
       "        text-align: right;\n",
       "    }\n",
       "</style>\n",
       "<table border=\"1\" class=\"dataframe\">\n",
       "  <thead>\n",
       "    <tr style=\"text-align: right;\">\n",
       "      <th></th>\n",
       "      <th>session_id</th>\n",
       "      <th>visit_number</th>\n",
       "      <th>visit_date</th>\n",
       "      <th>visit_time</th>\n",
       "      <th>utm_campaign</th>\n",
       "      <th>utm_adcontent</th>\n",
       "      <th>device_category</th>\n",
       "      <th>device_brand</th>\n",
       "      <th>device_browser</th>\n",
       "      <th>target_action</th>\n",
       "      <th>adv_on_social_media</th>\n",
       "      <th>is_organic</th>\n",
       "      <th>avg_number_of_customer_visits</th>\n",
       "      <th>is_capital_mo</th>\n",
       "      <th>is_russia</th>\n",
       "    </tr>\n",
       "  </thead>\n",
       "  <tbody>\n",
       "    <tr>\n",
       "      <th>0</th>\n",
       "      <td>9055434745589932991.1637753792.1637753792</td>\n",
       "      <td>1</td>\n",
       "      <td>2021-11-24</td>\n",
       "      <td>14:36:32</td>\n",
       "      <td>LEoPHuyFvzoNfnzGgfcd</td>\n",
       "      <td>vCIpmpaGBnIQhyYNkXqp</td>\n",
       "      <td>mobile</td>\n",
       "      <td>Huawei</td>\n",
       "      <td>Chrome</td>\n",
       "      <td>0.0</td>\n",
       "      <td>0</td>\n",
       "      <td>0</td>\n",
       "      <td>1.0</td>\n",
       "      <td>0</td>\n",
       "      <td>1</td>\n",
       "    </tr>\n",
       "    <tr>\n",
       "      <th>1</th>\n",
       "      <td>905544597018549464.1636867290.1636867290</td>\n",
       "      <td>1</td>\n",
       "      <td>2021-11-14</td>\n",
       "      <td>08:21:30</td>\n",
       "      <td>FTjNLDyTrXaWYgZymFkV</td>\n",
       "      <td>xhoenQgDQsgfEPYNPwKO</td>\n",
       "      <td>mobile</td>\n",
       "      <td>Samsung</td>\n",
       "      <td>Samsung Internet</td>\n",
       "      <td>0.0</td>\n",
       "      <td>1</td>\n",
       "      <td>0</td>\n",
       "      <td>1.0</td>\n",
       "      <td>1</td>\n",
       "      <td>1</td>\n",
       "    </tr>\n",
       "    <tr>\n",
       "      <th>2</th>\n",
       "      <td>9055446045651783499.1640648526.1640648526</td>\n",
       "      <td>1</td>\n",
       "      <td>2021-12-28</td>\n",
       "      <td>02:42:06</td>\n",
       "      <td>LEoPHuyFvzoNfnzGgfcd</td>\n",
       "      <td>vCIpmpaGBnIQhyYNkXqp</td>\n",
       "      <td>mobile</td>\n",
       "      <td>Huawei</td>\n",
       "      <td>Chrome</td>\n",
       "      <td>0.0</td>\n",
       "      <td>0</td>\n",
       "      <td>0</td>\n",
       "      <td>1.0</td>\n",
       "      <td>0</td>\n",
       "      <td>1</td>\n",
       "    </tr>\n",
       "    <tr>\n",
       "      <th>3</th>\n",
       "      <td>9055447046360770272.1622255328.1622255328</td>\n",
       "      <td>1</td>\n",
       "      <td>2021-05-29</td>\n",
       "      <td>05:00:00</td>\n",
       "      <td>LEoPHuyFvzoNfnzGgfcd</td>\n",
       "      <td>NOBKLgtuvqYWkXQHeYWM</td>\n",
       "      <td>mobile</td>\n",
       "      <td>Xiaomi</td>\n",
       "      <td>Chrome</td>\n",
       "      <td>0.0</td>\n",
       "      <td>0</td>\n",
       "      <td>0</td>\n",
       "      <td>1.5</td>\n",
       "      <td>1</td>\n",
       "      <td>1</td>\n",
       "    </tr>\n",
       "    <tr>\n",
       "      <th>4</th>\n",
       "      <td>9055447046360770272.1622255345.1622255345</td>\n",
       "      <td>2</td>\n",
       "      <td>2021-05-29</td>\n",
       "      <td>05:00:00</td>\n",
       "      <td>LEoPHuyFvzoNfnzGgfcd</td>\n",
       "      <td>xhoenQgDQsgfEPYNPwKO</td>\n",
       "      <td>mobile</td>\n",
       "      <td>Xiaomi</td>\n",
       "      <td>Chrome</td>\n",
       "      <td>0.0</td>\n",
       "      <td>0</td>\n",
       "      <td>0</td>\n",
       "      <td>1.5</td>\n",
       "      <td>1</td>\n",
       "      <td>1</td>\n",
       "    </tr>\n",
       "  </tbody>\n",
       "</table>\n",
       "</div>"
      ],
      "text/plain": [
       "                                  session_id  visit_number  visit_date  \\\n",
       "0  9055434745589932991.1637753792.1637753792             1  2021-11-24   \n",
       "1   905544597018549464.1636867290.1636867290             1  2021-11-14   \n",
       "2  9055446045651783499.1640648526.1640648526             1  2021-12-28   \n",
       "3  9055447046360770272.1622255328.1622255328             1  2021-05-29   \n",
       "4  9055447046360770272.1622255345.1622255345             2  2021-05-29   \n",
       "\n",
       "  visit_time          utm_campaign         utm_adcontent device_category  \\\n",
       "0   14:36:32  LEoPHuyFvzoNfnzGgfcd  vCIpmpaGBnIQhyYNkXqp          mobile   \n",
       "1   08:21:30  FTjNLDyTrXaWYgZymFkV  xhoenQgDQsgfEPYNPwKO          mobile   \n",
       "2   02:42:06  LEoPHuyFvzoNfnzGgfcd  vCIpmpaGBnIQhyYNkXqp          mobile   \n",
       "3   05:00:00  LEoPHuyFvzoNfnzGgfcd  NOBKLgtuvqYWkXQHeYWM          mobile   \n",
       "4   05:00:00  LEoPHuyFvzoNfnzGgfcd  xhoenQgDQsgfEPYNPwKO          mobile   \n",
       "\n",
       "  device_brand    device_browser  target_action  adv_on_social_media  \\\n",
       "0       Huawei            Chrome            0.0                    0   \n",
       "1      Samsung  Samsung Internet            0.0                    1   \n",
       "2       Huawei            Chrome            0.0                    0   \n",
       "3       Xiaomi            Chrome            0.0                    0   \n",
       "4       Xiaomi            Chrome            0.0                    0   \n",
       "\n",
       "   is_organic  avg_number_of_customer_visits  is_capital_mo  is_russia  \n",
       "0           0                            1.0              0          1  \n",
       "1           0                            1.0              1          1  \n",
       "2           0                            1.0              0          1  \n",
       "3           0                            1.5              1          1  \n",
       "4           0                            1.5              1          1  "
      ]
     },
     "execution_count": 32,
     "metadata": {},
     "output_type": "execute_result"
    }
   ],
   "source": [
    "import pandas as pd\n",
    "df = pd.read_csv('data\\df_sessions_prepared.csv')\n",
    "df.head()"
   ]
  },
  {
   "cell_type": "code",
   "execution_count": 33,
   "id": "fdfcd5f5",
   "metadata": {},
   "outputs": [
    {
     "name": "stdout",
     "output_type": "stream",
     "text": [
      "<class 'pandas.core.frame.DataFrame'>\n",
      "RangeIndex: 1732266 entries, 0 to 1732265\n",
      "Data columns (total 15 columns):\n",
      " #   Column                         Dtype  \n",
      "---  ------                         -----  \n",
      " 0   session_id                     object \n",
      " 1   visit_number                   int64  \n",
      " 2   visit_date                     object \n",
      " 3   visit_time                     object \n",
      " 4   utm_campaign                   object \n",
      " 5   utm_adcontent                  object \n",
      " 6   device_category                object \n",
      " 7   device_brand                   object \n",
      " 8   device_browser                 object \n",
      " 9   target_action                  float64\n",
      " 10  adv_on_social_media            int64  \n",
      " 11  is_organic                     int64  \n",
      " 12  avg_number_of_customer_visits  float64\n",
      " 13  is_capital_mo                  int64  \n",
      " 14  is_russia                      int64  \n",
      "dtypes: float64(2), int64(5), object(8)\n",
      "memory usage: 198.2+ MB\n"
     ]
    }
   ],
   "source": [
    "df.info()"
   ]
  },
  {
   "cell_type": "code",
   "execution_count": 30,
   "id": "7e47e701",
   "metadata": {},
   "outputs": [
    {
     "ename": "NumericValueOutOfRange",
     "evalue": "ОШИБКА:  значение \"9055434745589932991.1637753792.1637753792\" вне диапазона для типа integer\nCONTEXT:  COPY sessions, строка 1, столбец id_sesson: \"9055434745589932991.1637753792.1637753792\"\n",
     "output_type": "error",
     "traceback": [
      "\u001b[1;31m---------------------------------------------------------------------------\u001b[0m",
      "\u001b[1;31mNumericValueOutOfRange\u001b[0m                    Traceback (most recent call last)",
      "Cell \u001b[1;32mIn[30], line 4\u001b[0m\n\u001b[0;32m      2\u001b[0m \u001b[38;5;28;01mwith\u001b[39;00m \u001b[38;5;28mopen\u001b[39m(\u001b[38;5;124m'\u001b[39m\u001b[38;5;124mdata\u001b[39m\u001b[38;5;130;01m\\\\\u001b[39;00m\u001b[38;5;124mdf_sessions_prepared.csv\u001b[39m\u001b[38;5;124m'\u001b[39m, \u001b[38;5;124m'\u001b[39m\u001b[38;5;124mr\u001b[39m\u001b[38;5;124m'\u001b[39m, encoding\u001b[38;5;241m=\u001b[39m\u001b[38;5;124m\"\u001b[39m\u001b[38;5;124mutf-8\u001b[39m\u001b[38;5;124m\"\u001b[39m) \u001b[38;5;28;01mas\u001b[39;00m file:\n\u001b[0;32m      3\u001b[0m     \u001b[38;5;28mnext\u001b[39m(file)\n\u001b[1;32m----> 4\u001b[0m     cursor\u001b[38;5;241m.\u001b[39mcopy_from(file, \u001b[38;5;124m'\u001b[39m\u001b[38;5;124msessions\u001b[39m\u001b[38;5;124m'\u001b[39m, sep\u001b[38;5;241m=\u001b[39m\u001b[38;5;124m'\u001b[39m\u001b[38;5;124m,\u001b[39m\u001b[38;5;124m'\u001b[39m)\n\u001b[0;32m      5\u001b[0m connection\u001b[38;5;241m.\u001b[39mcommit()\n",
      "\u001b[1;31mNumericValueOutOfRange\u001b[0m: ОШИБКА:  значение \"9055434745589932991.1637753792.1637753792\" вне диапазона для типа integer\nCONTEXT:  COPY sessions, строка 1, столбец id_sesson: \"9055434745589932991.1637753792.1637753792\"\n"
     ]
    }
   ],
   "source": [
    "#cursor = connection.cursor()\n",
    "#with open('data\\\\df_sessions_prepared.csv', 'r', encoding=\"utf-8\") as file:\n",
    "#    next(file)\n",
    "#    cursor.copy_from(file, 'sessions', sep=',')\n",
    "#connection.commit()",
    "df.to_sql("sessions", if_exists="replace")"
   ]
  },
  {
   "cell_type": "code",
   "execution_count": null,
   "id": "2d14a522",
   "metadata": {},
   "outputs": [],
   "source": []
  },
  {
   "cell_type": "code",
   "execution_count": null,
   "id": "4ddcce12",
   "metadata": {},
   "outputs": [],
   "source": []
  },
  {
   "cell_type": "code",
   "execution_count": null,
   "id": "787ee429",
   "metadata": {},
   "outputs": [],
   "source": []
  },
  {
   "cell_type": "code",
   "execution_count": null,
   "id": "008018ac",
   "metadata": {},
   "outputs": [],
   "source": []
  },
  {
   "cell_type": "code",
   "execution_count": 28,
   "id": "35d4d548",
   "metadata": {},
   "outputs": [
    {
     "ename": "InvalidTextRepresentation",
     "evalue": "ОШИБКА:  неверный синтаксис для типа integer: \"session_id,visit_number,visit_date,visit_time,utm_campaign,utm_adcontent,device_category,device_brand,device_browser,target_action,adv_on_social_media,is_organic,avg_number_of_customer_visits,is_capital_mo,is_russia\"\nCONTEXT:  COPY sessions, строка 1, столбец id_sesson: \"session_id,visit_number,visit_date,visit_time,utm_campaign,utm_adcontent,device_category,device_bran...\"\n",
     "output_type": "error",
     "traceback": [
      "\u001b[1;31m---------------------------------------------------------------------------\u001b[0m",
      "\u001b[1;31mInvalidTextRepresentation\u001b[0m                 Traceback (most recent call last)",
      "Cell \u001b[1;32mIn[28], line 2\u001b[0m\n\u001b[0;32m      1\u001b[0m \u001b[38;5;28;01mwith\u001b[39;00m connection\u001b[38;5;241m.\u001b[39mcursor() \u001b[38;5;28;01mas\u001b[39;00m cur, \u001b[38;5;28mopen\u001b[39m(\u001b[38;5;124m'\u001b[39m\u001b[38;5;124mdata\u001b[39m\u001b[38;5;130;01m\\\\\u001b[39;00m\u001b[38;5;124mdf_sessions_prepared.csv\u001b[39m\u001b[38;5;124m'\u001b[39m, \u001b[38;5;124m'\u001b[39m\u001b[38;5;124mr\u001b[39m\u001b[38;5;124m'\u001b[39m, encoding\u001b[38;5;241m=\u001b[39m\u001b[38;5;124m'\u001b[39m\u001b[38;5;124mutf-8\u001b[39m\u001b[38;5;124m'\u001b[39m) \u001b[38;5;28;01mas\u001b[39;00m f:\n\u001b[1;32m----> 2\u001b[0m     cur\u001b[38;5;241m.\u001b[39mcopy_from(f, \u001b[38;5;124m'\u001b[39m\u001b[38;5;124msessions\u001b[39m\u001b[38;5;124m'\u001b[39m)\n",
      "\u001b[1;31mInvalidTextRepresentation\u001b[0m: ОШИБКА:  неверный синтаксис для типа integer: \"session_id,visit_number,visit_date,visit_time,utm_campaign,utm_adcontent,device_category,device_brand,device_browser,target_action,adv_on_social_media,is_organic,avg_number_of_customer_visits,is_capital_mo,is_russia\"\nCONTEXT:  COPY sessions, строка 1, столбец id_sesson: \"session_id,visit_number,visit_date,visit_time,utm_campaign,utm_adcontent,device_category,device_bran...\"\n"
     ]
    }
   ],
   "source": [
    "with connection.cursor() as cur, open('data\\\\df_sessions_prepared.csv', 'r', encoding='utf-8') as f:\n",
    "    cur.copy_from(f, 'sessions')"
   ]
  },
  {
   "cell_type": "code",
   "execution_count": 80,
   "id": "7b8e4043",
   "metadata": {},
   "outputs": [],
   "source": [
    "# alter_user_table = \"\"\"\n",
    "# ALTER TABLE sessions\n",
    "# ADD CONSTRAINT pk_session_table PRIMARY KEY(session_id, visit_number);\n",
    "# \"\"\"\n",
    "# execute_query(connection, alter_user_table)\n",
    "# connection.commit()"
   ]
  },
  {
   "cell_type": "code",
   "execution_count": 18,
   "id": "917ef88d",
   "metadata": {},
   "outputs": [
    {
     "data": {
      "text/html": [
       "<div>\n",
       "<style scoped>\n",
       "    .dataframe tbody tr th:only-of-type {\n",
       "        vertical-align: middle;\n",
       "    }\n",
       "\n",
       "    .dataframe tbody tr th {\n",
       "        vertical-align: top;\n",
       "    }\n",
       "\n",
       "    .dataframe thead th {\n",
       "        text-align: right;\n",
       "    }\n",
       "</style>\n",
       "<table border=\"1\" class=\"dataframe\">\n",
       "  <thead>\n",
       "    <tr style=\"text-align: right;\">\n",
       "      <th></th>\n",
       "      <th>session_id</th>\n",
       "      <th>hit_date</th>\n",
       "      <th>hit_number</th>\n",
       "      <th>event_category</th>\n",
       "      <th>event_action</th>\n",
       "      <th>car_brand</th>\n",
       "      <th>car_model</th>\n",
       "      <th>target_action</th>\n",
       "    </tr>\n",
       "  </thead>\n",
       "  <tbody>\n",
       "    <tr>\n",
       "      <th>0</th>\n",
       "      <td>5639623078712724064.1640254056.1640254056</td>\n",
       "      <td>2021-12-23</td>\n",
       "      <td>30</td>\n",
       "      <td>quiz</td>\n",
       "      <td>quiz_show</td>\n",
       "      <td>unknown</td>\n",
       "      <td>unknown</td>\n",
       "      <td>0</td>\n",
       "    </tr>\n",
       "    <tr>\n",
       "      <th>1</th>\n",
       "      <td>7750352294969115059.1640271109.1640271109</td>\n",
       "      <td>2021-12-23</td>\n",
       "      <td>41</td>\n",
       "      <td>quiz</td>\n",
       "      <td>quiz_show</td>\n",
       "      <td>unknown</td>\n",
       "      <td>unknown</td>\n",
       "      <td>0</td>\n",
       "    </tr>\n",
       "    <tr>\n",
       "      <th>2</th>\n",
       "      <td>885342191847998240.1640235807.1640235807</td>\n",
       "      <td>2021-12-23</td>\n",
       "      <td>49</td>\n",
       "      <td>quiz</td>\n",
       "      <td>quiz_show</td>\n",
       "      <td>volkswagen</td>\n",
       "      <td>polo</td>\n",
       "      <td>0</td>\n",
       "    </tr>\n",
       "    <tr>\n",
       "      <th>3</th>\n",
       "      <td>142526202120934167.1640211014.1640211014</td>\n",
       "      <td>2021-12-23</td>\n",
       "      <td>46</td>\n",
       "      <td>quiz</td>\n",
       "      <td>quiz_show</td>\n",
       "      <td>unknown</td>\n",
       "      <td>unknown</td>\n",
       "      <td>0</td>\n",
       "    </tr>\n",
       "    <tr>\n",
       "      <th>4</th>\n",
       "      <td>3450086108837475701.1640265078.1640265078</td>\n",
       "      <td>2021-12-23</td>\n",
       "      <td>79</td>\n",
       "      <td>quiz</td>\n",
       "      <td>quiz_show</td>\n",
       "      <td>mercedes-benz</td>\n",
       "      <td>cla-klasse</td>\n",
       "      <td>0</td>\n",
       "    </tr>\n",
       "  </tbody>\n",
       "</table>\n",
       "</div>"
      ],
      "text/plain": [
       "                                  session_id    hit_date  hit_number  \\\n",
       "0  5639623078712724064.1640254056.1640254056  2021-12-23          30   \n",
       "1  7750352294969115059.1640271109.1640271109  2021-12-23          41   \n",
       "2   885342191847998240.1640235807.1640235807  2021-12-23          49   \n",
       "3   142526202120934167.1640211014.1640211014  2021-12-23          46   \n",
       "4  3450086108837475701.1640265078.1640265078  2021-12-23          79   \n",
       "\n",
       "  event_category event_action      car_brand   car_model  target_action  \n",
       "0           quiz    quiz_show        unknown     unknown              0  \n",
       "1           quiz    quiz_show        unknown     unknown              0  \n",
       "2           quiz    quiz_show     volkswagen        polo              0  \n",
       "3           quiz    quiz_show        unknown     unknown              0  \n",
       "4           quiz    quiz_show  mercedes-benz  cla-klasse              0  "
      ]
     },
     "execution_count": 18,
     "metadata": {},
     "output_type": "execute_result"
    }
   ],
   "source": [
    "import pandas as pd\n",
    "df = pd.read_csv('data\\df_hits_prepared.csv')\n",
    "df.head()"
   ]
  },
  {
   "cell_type": "code",
   "execution_count": 19,
   "id": "f7853e70",
   "metadata": {},
   "outputs": [
    {
     "name": "stdout",
     "output_type": "stream",
     "text": [
      "<class 'pandas.core.frame.DataFrame'>\n",
      "RangeIndex: 15726470 entries, 0 to 15726469\n",
      "Data columns (total 8 columns):\n",
      " #   Column          Dtype \n",
      "---  ------          ----- \n",
      " 0   session_id      object\n",
      " 1   hit_date        object\n",
      " 2   hit_number      int64 \n",
      " 3   event_category  object\n",
      " 4   event_action    object\n",
      " 5   car_brand       object\n",
      " 6   car_model       object\n",
      " 7   target_action   int64 \n",
      "dtypes: int64(2), object(6)\n",
      "memory usage: 959.9+ MB\n"
     ]
    }
   ],
   "source": [
    "df.info()"
   ]
  },
  {
   "cell_type": "code",
   "execution_count": null,
   "id": "562718e4",
   "metadata": {},
   "outputs": [],
   "source": []
  }
 ],
 "metadata": {
  "kernelspec": {
   "display_name": "Python 3 (ipykernel)",
   "language": "python",
   "name": "python3"
  },
  "language_info": {
   "codemirror_mode": {
    "name": "ipython",
    "version": 3
   },
   "file_extension": ".py",
   "mimetype": "text/x-python",
   "name": "python",
   "nbconvert_exporter": "python",
   "pygments_lexer": "ipython3",
   "version": "3.11.5"
  }
 },
 "nbformat": 4,
 "nbformat_minor": 5
}
